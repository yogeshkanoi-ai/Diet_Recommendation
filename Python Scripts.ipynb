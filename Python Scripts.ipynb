{
 "cells": [
  {
   "cell_type": "code",
   "execution_count": 2,
   "id": "00aa82f6",
   "metadata": {},
   "outputs": [],
   "source": [
    "import numpy as np\n",
    "import pandas as pd\n",
    "import re\n",
    "from sklearn.preprocessing import StandardScaler\n",
    "from sklearn.neighbors import NearestNeighbors\n",
    "from sklearn.pipeline import Pipeline\n",
    "from sklearn.preprocessing import FunctionTransformer"
   ]
  },
  {
   "cell_type": "code",
   "execution_count": 7,
   "id": "33552b0d",
   "metadata": {},
   "outputs": [],
   "source": [
    "dataframe= pd.read_csv('/home/yogesh/Documents/Data Science/Python Scripts/Diet-Recommendation-System-main/Data/dataset.csv',compression='gzip')"
   ]
  },
  {
   "cell_type": "code",
   "execution_count": null,
   "id": "f178a687",
   "metadata": {},
   "outputs": [],
   "source": [
    "max_Calories=2000\n",
    "max_daily_fat=100\n",
    "max_daily_Saturatedfat=13\n",
    "max_daily_Cholesterol=300\n",
    "max_daily_Sodium=2300\n",
    "max_daily_Carbohydrate=325\n",
    "max_daily_Fiber=40\n",
    "max_daily_Sugar=40\n",
    "max_daily_Protein=200\n",
    "max_list=[max_Calories,max_daily_fat,max_daily_Saturatedfat,max_daily_Cholesterol,max_daily_Sodium,max_daily_Carbohydrate,max_daily_Fiber,max_daily_Sugar,max_daily_Protein]"
   ]
  },
  {
   "cell_type": "code",
   "execution_count": null,
   "id": "69b657de",
   "metadata": {},
   "outputs": [],
   "source": []
  },
  {
   "cell_type": "code",
   "execution_count": 2,
   "id": "1b474842",
   "metadata": {},
   "outputs": [],
   "source": [
    "\n",
    "def scaling(dataframe):\n",
    "    scaler=StandardScaler()\n",
    "    prep_data=scaler.fit_transform(dataframe.iloc[:,6:15].to_numpy())\n",
    "    return prep_data,scaler\n",
    "\n",
    "def nn_predictor(prep_data):\n",
    "    neigh = NearestNeighbors(metric='cosine',algorithm='brute')\n",
    "    neigh.fit(prep_data)\n",
    "    return neigh\n",
    "\n",
    "def build_pipeline(neigh,scaler,params):\n",
    "    transformer = FunctionTransformer(neigh.kneighbors,kw_args=params)\n",
    "    pipeline=Pipeline([('std_scaler',scaler),('NN',transformer)])\n",
    "    return pipeline\n",
    "\n",
    "def extract_data(dataframe,ingredients):\n",
    "    extracted_data=dataframe.copy()\n",
    "    extracted_data=extract_ingredient_filtered_data(extracted_data,ingredients)\n",
    "    return extracted_data\n",
    "    \n",
    "def extract_ingredient_filtered_data(dataframe,ingredients):\n",
    "    extracted_data=dataframe.copy()\n",
    "    regex_string=''.join(map(lambda x:f'(?=.*{x})',ingredients))\n",
    "    extracted_data=extracted_data[extracted_data['RecipeIngredientParts'].str.contains(regex_string,regex=True,flags=re.IGNORECASE)]\n",
    "    return extracted_data\n",
    "\n",
    "def apply_pipeline(pipeline,_input,extracted_data):\n",
    "    _input=np.array(_input).reshape(1,-1)\n",
    "    return extracted_data.iloc[pipeline.transform(_input)[0]]\n",
    "\n",
    "def recommend(dataframe,_input,ingredients=[],params={'n_neighbors':5,'return_distance':False}):\n",
    "        extracted_data=extract_data(dataframe,ingredients)\n",
    "        if extracted_data.shape[0]>=params['n_neighbors']:\n",
    "            prep_data,scaler=scaling(extracted_data)\n",
    "            neigh=nn_predictor(prep_data)\n",
    "            pipeline=build_pipeline(neigh,scaler,params)\n",
    "            return apply_pipeline(pipeline,_input,extracted_data)\n",
    "        else:\n",
    "            return None\n",
    "\n",
    "def extract_quoted_strings(s):\n",
    "    # Find all the strings inside double quotes\n",
    "    strings = re.findall(r'\"([^\"]*)\"', s)\n",
    "    # Join the strings with 'and'\n",
    "    return strings\n",
    "\n",
    "def output_recommended_recipes(dataframe):\n",
    "    if dataframe is not None:\n",
    "        output=dataframe.copy()\n",
    "        output=output.to_dict(\"records\")\n",
    "        for recipe in output:\n",
    "            recipe['RecipeIngredientParts']=extract_quoted_strings(recipe['RecipeIngredientParts'])\n",
    "            recipe['RecipeInstructions']=extract_quoted_strings(recipe['RecipeInstructions'])\n",
    "    else:\n",
    "        output=None\n",
    "    return output\n",
    "\n"
   ]
  }
 ],
 "metadata": {
  "kernelspec": {
   "display_name": "Python 3 (ipykernel)",
   "language": "python",
   "name": "python3"
  },
  "language_info": {
   "codemirror_mode": {
    "name": "ipython",
    "version": 3
   },
   "file_extension": ".py",
   "mimetype": "text/x-python",
   "name": "python",
   "nbconvert_exporter": "python",
   "pygments_lexer": "ipython3",
   "version": "3.11.3"
  }
 },
 "nbformat": 4,
 "nbformat_minor": 5
}
